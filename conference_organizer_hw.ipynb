{
 "cells": [
  {
   "cell_type": "code",
   "execution_count": 86,
   "id": "d6f51240",
   "metadata": {},
   "outputs": [],
   "source": [
    "import requests\n",
    "import json\n",
    "\n",
    "url = 'https://ct-mock-tech-assessment.herokuapp.com/'\n",
    "\n",
    "data = requests.get(url)\n",
    "partners = data.json()['partners']\n",
    "\n",
    "u = 'United States'\n",
    "c = 'Canada'\n",
    "i = 'Ireland'\n",
    "f = 'France'\n",
    "m = 'Mexico'\n",
    "s = 'Spain'\n",
    "si = 'Singapore'\n",
    "j = 'Japan'\n",
    "uk = 'United Kingdom'\n",
    "\n"
   ]
  },
  {
   "cell_type": "code",
   "execution_count": 92,
   "id": "ed792eee",
   "metadata": {},
   "outputs": [],
   "source": [
    "def countries(x):\n",
    "    country = []\n",
    "    \n",
    "    for i in partners:\n",
    "        if i['country'] == x:\n",
    "            country.append(i)\n",
    "            \n",
    "    return country\n",
    "\n",
    "united_states = countries(u)\n",
    "canada = countries(c)\n",
    "ireland = countries(i)\n",
    "france = countries(f)\n",
    "mexico = countries(m)\n",
    "spain = countries(s)\n",
    "singapore = countries(si)\n",
    "japan = countries(j)\n",
    "united_kingdom = countries(uk)\n",
    "\n",
    "def available(y):\n",
    "    dates = []\n",
    "\n",
    "    for i in y:\n",
    "        for n in i['availableDates']:\n",
    "            dates.append(n)\n",
    "            \n",
    "    return dates\n",
    "        \n",
    "us_dates = available(united_states)\n",
    "us_date = max(us_dates,key=us_dates.count)\n",
    "\n",
    "canada_dates = available(canada)\n",
    "canada_date = max(canada_dates,key=canada_dates.count)\n",
    "\n",
    "ireland_dates = available(ireland)\n",
    "ireland_date = max(ireland_dates,key=ireland_dates.count)\n",
    "\n",
    "france_dates = available(france)\n",
    "france_date = max(france_dates,key=france_dates.count)\n",
    "\n",
    "mexico_dates = available(mexico)\n",
    "mexico_date = max(mexico_dates,key=mexico_dates.count)\n",
    "\n",
    "spain_dates = available(spain)\n",
    "spain_date = max(spain_dates,key=spain_dates.count)\n",
    "\n",
    "singapore_dates = available(singapore)\n",
    "singapore_date = max(singapore_dates,key=singapore_dates.count)\n",
    "\n",
    "japan_dates = available(japan)\n",
    "japan_date = max(japan_dates,key=japan_dates.count)\n",
    "\n",
    "uk_dates = available(united_kingdom)\n",
    "uk_date = max(uk_dates,key=uk_dates.count)\n",
    "\n",
    "\n"
   ]
  },
  {
   "cell_type": "code",
   "execution_count": 93,
   "id": "305b872f",
   "metadata": {
    "scrolled": true
   },
   "outputs": [],
   "source": [
    "def invite(y, z):\n",
    "    \n",
    "    invitation = []\n",
    "    \n",
    "    for i in y:\n",
    "        for m in i['availableDates']:\n",
    "            if m == z:\n",
    "                invitation.append(i['email'])\n",
    "            \n",
    "    return invitation\n",
    "\n",
    "us_list = invite(united_states, us_date)\n",
    "canada_list = invite(canada, canada_date)\n",
    "ireland_list = invite(ireland, ireland_date)\n",
    "france_list = invite(france, france_date)\n",
    "mexico_list = invite(mexico, mexico_date)\n",
    "spain_list = invite(spain, spain_date)\n",
    "singapore_list = invite(singapore, singapore_date)\n",
    "japan_list = invite(japan, japan_date)\n",
    "uk_list = invite(united_kingdom, uk_date)"
   ]
  },
  {
   "cell_type": "code",
   "execution_count": 124,
   "id": "edf59072",
   "metadata": {},
   "outputs": [],
   "source": [
    "invitation_list = []\n",
    "\n",
    "us_invitations = {'attendeeCount':len(us_list), 'attendees':us_list, 'name':'United States','startDate':us_date}\n",
    "canada_invitations = {'attendeeCount':len(canada_list), 'attendees':canada_list, 'name':'Canada','startDate':canada_date}\n",
    "ireland_invitations = {'attendeeCount':len(ireland_list), 'attendees':ireland_list, 'name':'Ireland','startDate':ireland_date}\n",
    "france_invitations = {'attendeeCount':len(france_list), 'attendees':france_list, 'name':'France','startDate':france_date}\n",
    "mexico_invitations = {'attendeeCount':len(mexico_list), 'attendees':mexico_list, 'name':'Mexico','startDate':mexico_date}\n",
    "spain_invitations = {'attendeeCount':len(spain_list), 'attendees':spain_list, 'name':'Spain','startDate':spain_date}\n",
    "singapore_invitations = {'attendeeCount':len(singapore_list), 'attendees':singapore_list, 'name':'Singapore','startDate':singapore_date}\n",
    "japan_invitations = {'attendeeCount':len(japan_list), 'attendees':japan_list, 'name':'Japan','startDate':japan_date}\n",
    "uk_invitations = {'attendeeCount':len(uk_list), 'attendees':uk_list, 'name':'United Kingdoms','startDate':uk_date}"
   ]
  },
  {
   "cell_type": "code",
   "execution_count": 125,
   "id": "2644866a",
   "metadata": {},
   "outputs": [],
   "source": [
    "invitation_list.append(us_invitations.copy())\n",
    "invitation_list.append(canada_invitations.copy())\n",
    "invitation_list.append(ireland_invitations.copy())\n",
    "invitation_list.append(france_invitations.copy())\n",
    "invitation_list.append(mexico_invitations.copy())\n",
    "invitation_list.append(spain_invitations.copy())\n",
    "invitation_list.append(singapore_invitations.copy())\n",
    "invitation_list.append(japan_invitations.copy())\n",
    "invitation_list.append(uk_invitations.copy())"
   ]
  },
  {
   "cell_type": "code",
   "execution_count": 133,
   "id": "c342c697",
   "metadata": {},
   "outputs": [
    {
     "name": "stdout",
     "output_type": "stream",
     "text": [
      "<Response [400]>\n"
     ]
    }
   ],
   "source": [
    "new_data = invitation_list\n",
    "d = json.dumps(new_data)\n",
    "r = requests.post(url, data=d)\n",
    "print(r)"
   ]
  },
  {
   "cell_type": "code",
   "execution_count": null,
   "id": "0a6a9687",
   "metadata": {},
   "outputs": [],
   "source": []
  },
  {
   "cell_type": "code",
   "execution_count": null,
   "id": "13f2ceba",
   "metadata": {},
   "outputs": [],
   "source": []
  }
 ],
 "metadata": {
  "kernelspec": {
   "display_name": "Python 3",
   "language": "python",
   "name": "python3"
  },
  "language_info": {
   "codemirror_mode": {
    "name": "ipython",
    "version": 3
   },
   "file_extension": ".py",
   "mimetype": "text/x-python",
   "name": "python",
   "nbconvert_exporter": "python",
   "pygments_lexer": "ipython3",
   "version": "3.8.8"
  }
 },
 "nbformat": 4,
 "nbformat_minor": 5
}
